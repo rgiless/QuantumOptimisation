{
 "cells": [
  {
   "cell_type": "markdown",
   "id": "0a369aee-3371-49d4-b3ec-99b49f10e5fd",
   "metadata": {},
   "source": [
    "Optimisation 1:\n",
    "Question a)"
   ]
  },
  {
   "cell_type": "code",
   "execution_count": 59,
   "id": "da555bef-92a9-458f-a8fd-e598aa1c424f",
   "metadata": {
    "colab": {
     "base_uri": "https://localhost:8080/"
    },
    "id": "da555bef-92a9-458f-a8fd-e598aa1c424f",
    "outputId": "e13538f6-c4c9-4ece-d6b0-5a6cb8d60389"
   },
   "outputs": [
    {
     "data": {
      "text/plain": [
       "Array([-0.40824828+0.j        ,  0.4082482 +0.81649655j], dtype=complex64)"
      ]
     },
     "execution_count": 59,
     "metadata": {},
     "output_type": "execute_result"
    }
   ],
   "source": [
    "import pennylane as qml\n",
    "from jax import numpy as np\n",
    "import jax\n",
    "\n",
    "def ground(params):\n",
    "    X = np.array([[0, 1], [1, 0]])\n",
    "    Y = np.array([[0, -1j], [1j, 0]])\n",
    "    Z = np.array([[1, 0], [0, -1]])\n",
    "    H = params[0]*X + params[1]*Y + params[2]*Z\n",
    "    eigenvalues, eigenvectors = np.linalg.eigh(H)\n",
    "    groundenergy = eigenvalues[0]\n",
    "    groundvector = eigenvectors[:, 0]\n",
    "    return groundvector\n",
    "\n",
    "params = np.array([0.5, 1.0, 1.0])\n",
    "ground(params)"
   ]
  },
  {
   "cell_type": "markdown",
   "id": "DJjdvVzXgm-H",
   "metadata": {
    "id": "DJjdvVzXgm-H"
   },
   "source": [
    "Ground state found from direct diagonlisation of Hamiltonian with parameters [0.5, 1.0, 1.0] is [-0.40824828+0.j, 0.4082482 +0.81649655j]."
   ]
  },
  {
   "cell_type": "markdown",
   "id": "84d7d11b-dc16-47b0-9241-ceb50a6e9203",
   "metadata": {},
   "source": [
    "Question b)"
   ]
  },
  {
   "cell_type": "code",
   "execution_count": 60,
   "id": "0e4f2bad-7f15-49de-bbe3-3c25de95b597",
   "metadata": {
    "id": "0e4f2bad-7f15-49de-bbe3-3c25de95b597"
   },
   "outputs": [],
   "source": [
    "dev1 = qml.device(\"lightning.qubit\", wires=1)\n",
    "optimise = np.array([0.1, 0.1])\n",
    "ops = [qml.PauliX(0), qml.PauliY(0), qml.PauliZ(0)]\n",
    "\n",
    "@qml.qnode(dev1)\n",
    "def circuit(optimise):\n",
    "    qml.RY(optimise[0], wires=0)\n",
    "    qml.RZ(optimise[1], wires=0)\n",
    "    return qml.expval(qml.Hamiltonian(params, ops))"
   ]
  },
  {
   "cell_type": "code",
   "execution_count": 61,
   "id": "76488ecc-4f80-4b6a-886f-0f66a9ee0189",
   "metadata": {
    "colab": {
     "base_uri": "https://localhost:8080/"
    },
    "id": "76488ecc-4f80-4b6a-886f-0f66a9ee0189",
    "outputId": "aae309da-30f8-4a3d-e223-d6aaebbc3d91"
   },
   "outputs": [
    {
     "name": "stdout",
     "output_type": "stream",
     "text": [
      "[0.4945179  0.09435131]\n"
     ]
    }
   ],
   "source": [
    "dcircuit = jax.grad(circuit, argnums=0)\n",
    "print(dcircuit(optimise))"
   ]
  },
  {
   "cell_type": "code",
   "execution_count": 62,
   "id": "410d0ca6-c260-4d54-89dc-a142139826b5",
   "metadata": {
    "id": "410d0ca6-c260-4d54-89dc-a142139826b5",
    "scrolled": true
   },
   "outputs": [],
   "source": [
    "def cost(x):\n",
    "    return circuit(x)"
   ]
  },
  {
   "cell_type": "code",
   "execution_count": 63,
   "id": "f2e6014c-266b-4ae6-b8d2-505e01ca4e50",
   "metadata": {
    "colab": {
     "base_uri": "https://localhost:8080/"
    },
    "id": "f2e6014c-266b-4ae6-b8d2-505e01ca4e50",
    "outputId": "a6ca9e0e-2cc0-4d87-882d-03ee6b983543"
   },
   "outputs": [
    {
     "name": "stdout",
     "output_type": "stream",
     "text": [
      "1.0546383\n"
     ]
    }
   ],
   "source": [
    "print(cost(optimise))"
   ]
  },
  {
   "cell_type": "code",
   "execution_count": 64,
   "id": "T801_qS8bX-a",
   "metadata": {
    "colab": {
     "base_uri": "https://localhost:8080/"
    },
    "id": "T801_qS8bX-a",
    "outputId": "0a89a8e4-3768-4659-9219-9375da765854"
   },
   "outputs": [
    {
     "name": "stderr",
     "output_type": "stream",
     "text": [
      "/usr/local/lib/python3.10/dist-packages/pennylane/devices/preprocess.py:284: UserWarning: Differentiating with respect to the input parameters of LinearCombination is not supported with the adjoint differentiation method. Gradients are computed only with regards to the trainable parameters of the circuit.\n",
      "\n",
      " Mark the parameters of the measured observables as non-trainable to silence this warning.\n",
      "  warnings.warn(\n"
     ]
    },
    {
     "name": "stdout",
     "output_type": "stream",
     "text": [
      "Cost after step     5: -1.1575691\n",
      "Cost after step    10: -1.4993813\n",
      "Cost after step    15: -1.4999897\n",
      "Cost after step    20: -1.4999999\n",
      "Cost after step    25: -1.5000000\n",
      "Cost after step    30: -1.5000000\n",
      "Cost after step    35: -1.5000000\n",
      "Cost after step    40: -1.5000000\n",
      "Cost after step    45: -1.5000000\n",
      "Cost after step    50: -1.5000000\n",
      "Cost after step    55: -1.5000000\n",
      "Cost after step    60: -1.5000000\n",
      "Cost after step    65: -1.5000000\n",
      "Cost after step    70: -1.5000000\n",
      "Cost after step    75: -1.5000000\n",
      "Cost after step    80: -1.5000000\n",
      "Cost after step    85: -1.5000000\n",
      "Cost after step    90: -1.5000000\n",
      "Cost after step    95: -1.5000000\n",
      "Cost after step   100: -1.5000000\n",
      "Cost after step   105: -1.5000000\n",
      "Cost after step   110: -1.5000000\n",
      "Cost after step   115: -1.5000000\n",
      "Cost after step   120: -1.5000000\n",
      "Cost after step   125: -1.5000000\n",
      "Cost after step   130: -1.5000000\n",
      "Cost after step   135: -1.5000000\n",
      "Cost after step   140: -1.5000000\n",
      "Cost after step   145: -1.5000000\n",
      "Cost after step   150: -1.5000000\n",
      "Cost after step   155: -1.5000000\n",
      "Cost after step   160: -1.5000000\n",
      "Cost after step   165: -1.5000000\n",
      "Cost after step   170: -1.5000000\n",
      "Cost after step   175: -1.5000000\n",
      "Cost after step   180: -1.5000000\n",
      "Cost after step   185: -1.5000000\n",
      "Cost after step   190: -1.5000000\n",
      "Cost after step   195: -1.5000000\n",
      "Cost after step   200: -1.5000000\n",
      "Optimized parameters: [-2.300524   1.1071486]\n",
      "Ground State from Diagonalisation: [-0.40824828+0.j          0.4082482 +0.81649655j]\n",
      "Ground State from Optimisation: [ 0.40824828+0.j        -0.40824834-0.8164966j]\n"
     ]
    }
   ],
   "source": [
    "import jaxopt\n",
    "\n",
    "# initialise the optimizer\n",
    "opt = jaxopt.GradientDescent(cost, stepsize=0.4, acceleration = False)\n",
    "\n",
    "# set the number of steps\n",
    "steps = 200\n",
    "# set the initial parameter values\n",
    "opt_state = opt.init_state(optimise)\n",
    "\n",
    "for i in range(steps):\n",
    "    # update the circuit parameters\n",
    "    optimise, opt_state = opt.update(optimise, opt_state)\n",
    "\n",
    "    if (i + 1) % 5 == 0:\n",
    "        print(\"Cost after step {:5d}: {: .7f}\".format(i + 1, cost(optimise)))\n",
    "\n",
    "print(\"Optimized parameters: {}\".format(optimise))\n",
    "print(\"Ground State from Diagonalisation: \" + str(ground(params)))\n",
    "print(\"Ground State from Optimisation: \" + str(np.array([np.cos(optimise[0]/2), np.exp(1j*optimise[1])*np.sin(optimise[0]/2)])))"
   ]
  },
  {
   "cell_type": "markdown",
   "id": "2200e9d8-19b0-4dd8-867e-5ef986726bc4",
   "metadata": {},
   "source": [
    "Question c)"
   ]
  },
  {
   "cell_type": "markdown",
   "id": "eRFhZyHlg57S",
   "metadata": {
    "id": "eRFhZyHlg57S"
   },
   "source": [
    "Ground state found from optimisation is the same as found from diagonlisation, with a global phase difference, and both give the same ground energy. For a simple Hamiltonian such as this problem, direct diagonalisation of the Hamiltonian was a much faster and simpler method to find the ground state. As the Hamiltonian increases in size, however, the diagonlisation would become a very difficult task, and the optimisation method would find the ground state more efficiently. This is due to the Hamiltonian of the system increasing exponentially with the amount of qubits; a classical algorithm will not be able to handle this past 50 qubits, and would be very slow up to that point."
   ]
  }
 ],
 "metadata": {
  "colab": {
   "provenance": []
  },
  "kernelspec": {
   "display_name": "Python 3 (ipykernel)",
   "language": "python",
   "name": "python3"
  },
  "language_info": {
   "codemirror_mode": {
    "name": "ipython",
    "version": 3
   },
   "file_extension": ".py",
   "mimetype": "text/x-python",
   "name": "python",
   "nbconvert_exporter": "python",
   "pygments_lexer": "ipython3",
   "version": "3.11.7"
  }
 },
 "nbformat": 4,
 "nbformat_minor": 5
}
